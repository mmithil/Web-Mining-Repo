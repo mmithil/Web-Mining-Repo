{
 "cells": [
  {
   "cell_type": "markdown",
   "metadata": {},
   "source": [
    "python -m pip install -U pip setuptools"
   ]
  },
  {
   "cell_type": "code",
   "execution_count": 1,
   "metadata": {
    "collapsed": false
   },
   "outputs": [
    {
     "name": "stdout",
     "output_type": "stream",
     "text": [
      "Requirement already satisfied (use --upgrade to upgrade): goodreads in c:\\users\\mithil\\anaconda2\\lib\\site-packages\\goodreads-0.2.4-py2.7.egg\n",
      "Requirement already satisfied (use --upgrade to upgrade): nose in c:\\users\\mithil\\anaconda2\\lib\\site-packages (from goodreads)\n",
      "Requirement already satisfied (use --upgrade to upgrade): xmltodict in c:\\users\\mithil\\anaconda2\\lib\\site-packages\\xmltodict-0.10.1-py2.7.egg (from goodreads)\n",
      "Requirement already satisfied (use --upgrade to upgrade): requests in c:\\users\\mithil\\anaconda2\\lib\\site-packages (from goodreads)\n",
      "Requirement already satisfied (use --upgrade to upgrade): rauth in c:\\users\\mithil\\anaconda2\\lib\\site-packages\\rauth-0.7.2-py2.7.egg (from goodreads)\n"
     ]
    },
    {
     "name": "stderr",
     "output_type": "stream",
     "text": [
      "You are using pip version 8.0.3, however version 8.1.0 is available.\n",
      "You should consider upgrading via the 'python -m pip install --upgrade pip' command.\n"
     ]
    }
   ],
   "source": [
    "!pip install goodreads"
   ]
  },
  {
   "cell_type": "code",
   "execution_count": 3,
   "metadata": {
    "collapsed": true
   },
   "outputs": [],
   "source": [
    "#Pass the key and secret to goodreads client\n",
    "from goodreads import client\n",
    "gc = client.GoodreadsClient('i3Zsl7r13oHEQCjv1vXw','nRNWeiFW7w9jsBzsCu8613TtAlGH6zHNniSJNNRUzI')"
   ]
  },
  {
   "cell_type": "code",
   "execution_count": 4,
   "metadata": {
    "collapsed": false
   },
   "outputs": [],
   "source": [
    "gc.authenticate('NiMl2DXfestbRFL03HnbNw', 'NiMl2DXfestbRFL03HnbNw')"
   ]
  },
  {
   "cell_type": "code",
   "execution_count": 5,
   "metadata": {
    "collapsed": false
   },
   "outputs": [],
   "source": [
    "user = gc.user(1);"
   ]
  },
  {
   "cell_type": "markdown",
   "metadata": {},
   "source": []
  },
  {
   "cell_type": "raw",
   "metadata": {},
   "source": []
  },
  {
   "cell_type": "code",
   "execution_count": 8,
   "metadata": {
    "collapsed": false
   },
   "outputs": [
    {
     "data": {
      "text/plain": [
       "u'Otis Chandler'"
      ]
     },
     "execution_count": 8,
     "metadata": {},
     "output_type": "execute_result"
    }
   ],
   "source": [
    "user.name"
   ]
  },
  {
   "cell_type": "code",
   "execution_count": 8,
   "metadata": {
    "collapsed": false
   },
   "outputs": [
    {
     "data": {
      "text/plain": [
       "u'otis'"
      ]
     },
     "execution_count": 8,
     "metadata": {},
     "output_type": "execute_result"
    }
   ],
   "source": [
    "user.user_name"
   ]
  },
  {
   "cell_type": "markdown",
   "metadata": {},
   "source": []
  },
  {
   "cell_type": "markdown",
   "metadata": {},
   "source": []
  },
  {
   "cell_type": "code",
   "execution_count": 16,
   "metadata": {
    "collapsed": true
   },
   "outputs": [],
   "source": [
    "import urllib2\n",
    "import csv\n",
    "import time\n",
    "import sys\n",
    "import xml.etree.ElementTree as ET"
   ]
  },
  {
   "cell_type": "code",
   "execution_count": 49,
   "metadata": {
    "collapsed": false,
    "scrolled": true
   },
   "outputs": [
    {
     "ename": "UnicodeEncodeError",
     "evalue": "'ascii' codec can't encode character u'\\u014d' in position 10: ordinal not in range(128)",
     "output_type": "error",
     "traceback": [
      "\u001b[1;31m---------------------------------------------------------------------------\u001b[0m",
      "\u001b[1;31mUnicodeEncodeError\u001b[0m                        Traceback (most recent call last)",
      "\u001b[1;32m<ipython-input-49-4062e26943d3>\u001b[0m in \u001b[0;36m<module>\u001b[1;34m()\u001b[0m\n\u001b[0;32m    151\u001b[0m                             \u001b[1;34m'average_rating'\u001b[0m \u001b[1;33m:\u001b[0m \u001b[0maverage_rating\u001b[0m\u001b[1;33m,\u001b[0m\u001b[1;33m\u001b[0m\u001b[0m\n\u001b[0;32m    152\u001b[0m                             \u001b[1;34m'ratings_count'\u001b[0m \u001b[1;33m:\u001b[0m \u001b[0mratings_count\u001b[0m\u001b[1;33m,\u001b[0m\u001b[1;33m\u001b[0m\u001b[0m\n\u001b[1;32m--> 153\u001b[1;33m                             'text_reviews_count' : text_reviews_count})\n\u001b[0m\u001b[0;32m    154\u001b[0m \u001b[1;33m\u001b[0m\u001b[0m\n\u001b[0;32m    155\u001b[0m \u001b[1;33m\u001b[0m\u001b[0m\n",
      "\u001b[1;32mC:\\Users\\Mithil\\Anaconda2\\lib\\csv.pyc\u001b[0m in \u001b[0;36mwriterow\u001b[1;34m(self, rowdict)\u001b[0m\n\u001b[0;32m    150\u001b[0m \u001b[1;33m\u001b[0m\u001b[0m\n\u001b[0;32m    151\u001b[0m     \u001b[1;32mdef\u001b[0m \u001b[0mwriterow\u001b[0m\u001b[1;33m(\u001b[0m\u001b[0mself\u001b[0m\u001b[1;33m,\u001b[0m \u001b[0mrowdict\u001b[0m\u001b[1;33m)\u001b[0m\u001b[1;33m:\u001b[0m\u001b[1;33m\u001b[0m\u001b[0m\n\u001b[1;32m--> 152\u001b[1;33m         \u001b[1;32mreturn\u001b[0m \u001b[0mself\u001b[0m\u001b[1;33m.\u001b[0m\u001b[0mwriter\u001b[0m\u001b[1;33m.\u001b[0m\u001b[0mwriterow\u001b[0m\u001b[1;33m(\u001b[0m\u001b[0mself\u001b[0m\u001b[1;33m.\u001b[0m\u001b[0m_dict_to_list\u001b[0m\u001b[1;33m(\u001b[0m\u001b[0mrowdict\u001b[0m\u001b[1;33m)\u001b[0m\u001b[1;33m)\u001b[0m\u001b[1;33m\u001b[0m\u001b[0m\n\u001b[0m\u001b[0;32m    153\u001b[0m \u001b[1;33m\u001b[0m\u001b[0m\n\u001b[0;32m    154\u001b[0m     \u001b[1;32mdef\u001b[0m \u001b[0mwriterows\u001b[0m\u001b[1;33m(\u001b[0m\u001b[0mself\u001b[0m\u001b[1;33m,\u001b[0m \u001b[0mrowdicts\u001b[0m\u001b[1;33m)\u001b[0m\u001b[1;33m:\u001b[0m\u001b[1;33m\u001b[0m\u001b[0m\n",
      "\u001b[1;31mUnicodeEncodeError\u001b[0m: 'ascii' codec can't encode character u'\\u014d' in position 10: ordinal not in range(128)"
     ]
    }
   ],
   "source": [
    "def getval(root, element):\n",
    "    try:\n",
    "        return root.find(element).text\n",
    "    except:\n",
    "        return \"\"\n",
    "    \n",
    "with open('csv_files/user_data.csv', 'w') as csvfile, open('csv_files/book_data.csv', 'w') as csvfile_book, open('csv_files/book_author.csv', 'w') as csvfile_author:\n",
    "    fieldnames = ['id', 'name','user_name', 'profile_url','image_url', 'about', 'age', 'gender', \n",
    "                  'location','joined','last_active' ]\n",
    "    writer = csv.DictWriter(csvfile, delimiter = ',', lineterminator = '\\n', fieldnames=fieldnames)\n",
    "    writer.writeheader()\n",
    "    book_fieldnames = [\n",
    "                        'user_id',\n",
    "                        'b_id',\n",
    "                        'isbn', \n",
    "                        'isbn13',\n",
    "                        'text_reviews_count',\n",
    "                        'title',\n",
    "                        'image_url',\n",
    "                        'link',\n",
    "                        'num_pages',\n",
    "                        'b_format',\n",
    "                        'publisher',\n",
    "                        'publication_day', \n",
    "                        'publication_year', \n",
    "                        'publication_month',\n",
    "                        'average_rating', \n",
    "                        'ratings_count', \n",
    "                        'description', \n",
    "                        'published'  ]\n",
    "                \n",
    "    writer_book = csv.DictWriter(csvfile_book, delimiter = ',', lineterminator = '\\n', fieldnames=book_fieldnames)\n",
    "    writer_book.writeheader()\n",
    "    author_fieldnames = [\n",
    "                        'u_id',\n",
    "                        'b_id',\n",
    "                        'a_id',\n",
    "                        'name',\n",
    "                        'average_rating',\n",
    "                        'ratings_count',\n",
    "                        'text_reviews_count']\n",
    "    writer_author = csv.DictWriter(csvfile_author, delimiter = ',', lineterminator = '\\n', fieldnames = author_fieldnames)\n",
    "    writer_author.writeheader()\n",
    "\n",
    "    \n",
    "    \n",
    "    for i in range(1,2):   \n",
    "        \n",
    "            time.sleep(1)\n",
    "            url = 'https://www.goodreads.com/user/show/'+ str(i) +'.xml?key=i3Zsl7r13oHEQCjv1vXw'\n",
    "            response = urllib2.urlopen(url)\n",
    "            user_data_xml = response.read()\n",
    "            # write xml to file\n",
    "            f = open(\"xml_docs/user\"+ str(i) +\".xml\", \"w\")\n",
    "            try:\n",
    "                f.write(user_data_xml)\n",
    "            finally:\n",
    "                f.close()\n",
    "            #root = ET.parse(\"xml_docs/user\"+ str(i) +\".xml\").getroot()\n",
    "            root = ET.fromstring()\n",
    "            user_element = root.find('user')\n",
    "            id = getval(user_element,'id')\n",
    "            name = getval(user_element,'name')\n",
    "            user_name = getval(user_element,'user_name')\n",
    "            profile_url = getval(user_element,'link')\n",
    "            image_url = getval(user_element,'image_url')\n",
    "            about = getval(user_element,'about')\n",
    "            age = getval(user_element,'age')\n",
    "            gender = getval(user_element,'gender')\n",
    "            location = getval(user_element,'location')\n",
    "            joined = getval(user_element,'joined')\n",
    "            last_active = getval(user_element,'last_active')\n",
    "            writer.writerow({'id': id, 'name' : name,'user_name' : user_name,\n",
    "                              'profile_url' : profile_url,'image_url' : image_url,\n",
    "                             'about' : about, 'age': age, 'gender' : gender, \n",
    "                             'location' : location, 'joined' : joined, 'last_active': last_active})\n",
    "            \n",
    "            \n",
    "            \n",
    "            # get list of user shelves\n",
    "            \n",
    "            user_shelves_root =  user_element.find('user_shelves')\n",
    "            \n",
    "            user_shelf_list = []\n",
    "            \n",
    "            for user_shelf in user_shelves_root.findall(\"user_shelf\"):\n",
    "                shelf = getval(user_shelf,\"name\")\n",
    "                #Books on Shelf\n",
    "                shelf_url = \"https://www.goodreads.com/review/list/\"+ id +\".xml?key=i3Zsl7r13oHEQCjv1vXw&v=2&shelf=\" + shelf\n",
    "                response = urllib2.urlopen(shelf_url)\n",
    "                shelf_data_xml = response.read()\n",
    "                # write xml to file\n",
    "                f = open(\"xml_docs/user_shelf_\" + shelf + \"_\"+ str(i) + \".xml\", \"w\")\n",
    "                try:\n",
    "                    f.write(shelf_data_xml)\n",
    "                finally:\n",
    "                    f.close()\n",
    "                shelf_root = ET.parse(\"xml_docs/user_shelf_\" + shelf + \"_\"+ str(i) + \".xml\").getroot()\n",
    "                reviews = shelf_root.find(\"reviews\")\n",
    "                for review in reviews.findall(\"review\"):\n",
    "                    for book in review.findall(\"book\"):\n",
    "                        b_id = getval(book,\"id\")\n",
    "                        isbn = getval(book,\"isbn\")\n",
    "                        isbn13 = getval(book,\"isbn13\")\n",
    "                        text_reviews_count = getval(book,\"text_reviews_count\")\n",
    "                        title = getval(book,\"title\")\n",
    "                        image_url = getval(book,\"image_url\")\n",
    "                        link = getval(book,\"link\")\n",
    "                        num_pages = getval(book,\"num_pages\")\n",
    "                        b_format = getval(book,\"format\")\n",
    "                        publisher = getval(book,\"publisher\")\n",
    "                        publication_day = getval(book,\"publication_day\")\n",
    "                        publication_year = getval(book, \"publication_year\") \n",
    "                        publication_month = getval(book,\"publication_month\")\n",
    "                        average_rating = getval(book,\"average_rating\")\n",
    "                        ratings_count = getval(book,\"rating_count\")\n",
    "                        description = getval(book,\"description\")\n",
    "                        published = getval(book,\"published\")\n",
    "\n",
    "                        writer_book.writerow({\n",
    "                            'user_id': id,\n",
    "                            'b_id' : b_id ,\n",
    "                            'isbn' : isbn, \n",
    "                            'isbn13': isbn13,\n",
    "                            'text_reviews_count' : text_reviews_count,\n",
    "                            'title' : title,\n",
    "                            'image_url' : image_url,\n",
    "                            'link' : link,\n",
    "                            'num_pages' : num_pages,\n",
    "                            'b_format' : b_format,\n",
    "                            'publisher' : publisher,\n",
    "                            'publication_day' : publication_day, \n",
    "                            'publication_year' : publication_year, \n",
    "                            'publication_month' : publication_month,\n",
    "                            'average_rating' : average_rating, \n",
    "                            'ratings_count' : ratings_count, \n",
    "                            'description' : description })\n",
    "\n",
    "\n",
    "\n",
    "                        authors = book.find(\"authors\")\n",
    "                        for author in authors.findall(\"author\"):\n",
    "                            a_id = getval(author,\"id\")\n",
    "                            name = getval(author,\"name\")\n",
    "                            average_rating = getval(author,\"average_rating\")\n",
    "                            ratings_count = getval(author,\"ratings_count\")\n",
    "                            text_reviews_count = getval(author,\"text_reviews_count\")\n",
    "                            writer_author.writerow({'u_id': id,\n",
    "                            'b_id' : b_id,\n",
    "                            'a_id' : a_id,\n",
    "                            'name' : name,\n",
    "                            'average_rating' : average_rating,\n",
    "                            'ratings_count' : ratings_count,\n",
    "                            'text_reviews_count' : text_reviews_count})\n",
    "\n",
    "\n",
    "        #for \n",
    "                \n"
   ]
  },
  {
   "cell_type": "code",
   "execution_count": 31,
   "metadata": {
    "collapsed": false
   },
   "outputs": [
    {
     "data": {
      "text/plain": [
       "['meat']"
      ]
     },
     "execution_count": 31,
     "metadata": {},
     "output_type": "execute_result"
    }
   ],
   "source": [
    "x"
   ]
  },
  {
   "cell_type": "code",
   "execution_count": 30,
   "metadata": {
    "collapsed": false
   },
   "outputs": [],
   "source": [
    "i=1\n",
    "x = []\n",
    "x.insert(i,\"meat\")\n"
   ]
  },
  {
   "cell_type": "code",
   "execution_count": null,
   "metadata": {
    "collapsed": true
   },
   "outputs": [],
   "source": []
  }
 ],
 "metadata": {
  "kernelspec": {
   "display_name": "Python 2",
   "language": "python",
   "name": "python2"
  },
  "language_info": {
   "codemirror_mode": {
    "name": "ipython",
    "version": 2
   },
   "file_extension": ".py",
   "mimetype": "text/x-python",
   "name": "python",
   "nbconvert_exporter": "python",
   "pygments_lexer": "ipython2",
   "version": "2.7.11"
  }
 },
 "nbformat": 4,
 "nbformat_minor": 0
}
